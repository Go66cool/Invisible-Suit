{
 "cells": [
  {
   "cell_type": "code",
   "execution_count": 1,
   "metadata": {},
   "outputs": [],
   "source": [
    "\n",
    "import cv2         #opencv for image processing \n",
    "import numpy as np #numerical library for handling the image         \n",
    "\n",
    "cap = cv2.VideoCapture(0)\n",
    "\n",
    "\n",
    "# THE BACKGROUND IMAGE#\n",
    "background = 0\n",
    "for i in range (30):\n",
    "    _,background = cap.read()\n",
    "    \n",
    "\n",
    "while (True):\n",
    "    _, curent_frame = cap.read()  \n",
    "    \n",
    "\n",
    "    hsv_frame = cv2.cvtColor(curent_frame, cv2.COLOR_BGR2HSV)\n",
    "    \n",
    "    # blue color\n",
    "    low_blue1 = np.array([16,117, 0])\n",
    "    high_blue1 = np.array([63,255,255])\n",
    "    blue_mask1 = cv2.inRange(hsv_frame, low_blue1, high_blue1)\n",
    "    \n",
    "    low_blue2 = np.array([50,100, 0])\n",
    "    high_blue2 = np.array([90,255,255])\n",
    "    blue_mask_2= cv2.inRange(hsv_frame, low_blue2, high_blue2) \n",
    "    \n",
    "    blue_mask = blue_mask_2 + blue_mask1\n",
    "    \n",
    "    blue_mask = cv2.morphologyEx(blue_mask, cv2.MORPH_OPEN, np.ones((3,3), np.uint8), iterations = 10) \n",
    "    blue_mask = cv2.morphologyEx(blue_mask, cv2.MORPH_DILATE, np.ones((3,3), np.uint8), iterations = 1)    \n",
    "   \n",
    "    \n",
    "    blue_free= cv2.bitwise_not (blue_mask) # iff cloak is  not available show the present image  \n",
    "    \n",
    "    \n",
    "    back = cv2.bitwise_and(background, background , mask = blue_mask) #substituting the blue portion (cloak part) with background image\n",
    "    present = cv2.bitwise_and(curent_frame, curent_frame, mask = blue_free) #if cloak is not there show the current_frame \n",
    "    cloaked = cv2.add(back , present)\n",
    "    \n",
    "    cv2.imshow(\"CLOAKED\", cloaked)\n",
    "    cv2.imshow (\"REAL FEED\", curent_frame)\n",
    "    #print(\"end\")\n",
    "    key = cv2.waitKey(1)\n",
    "    \n",
    "    if key == 27:\n",
    "        break\n",
    "    \n",
    "cap.release()\n",
    "cv2.destroyAllWindows()"
   ]
  },
  {
   "cell_type": "code",
   "execution_count": null,
   "metadata": {},
   "outputs": [],
   "source": []
  }
 ],
 "metadata": {
  "kernelspec": {
   "display_name": "base",
   "language": "python",
   "name": "python3"
  },
  "language_info": {
   "codemirror_mode": {
    "name": "ipython",
    "version": 3
   },
   "file_extension": ".py",
   "mimetype": "text/x-python",
   "name": "python",
   "nbconvert_exporter": "python",
   "pygments_lexer": "ipython3",
   "version": "3.8.8"
  }
 },
 "nbformat": 4,
 "nbformat_minor": 2
}
