{
 "cells": [
  {
   "cell_type": "code",
   "execution_count": null,
   "metadata": {},
   "outputs": [],
   "source": [
    "\n",
    "import cv2\n",
    "import numpy as np\n",
    "\n",
    "\n",
    "def empty(a):\n",
    "    pass\n",
    "'''\n",
    "    create the HSV trackbars\n",
    "'''\n",
    "cv2.namedWindow(\"HSV\")\n",
    "cv2.resizeWindow(\"HSV\", 640, 240)\n",
    "cv2.createTrackbar(\"HUE Min\", \"HSV\", 0, 179, empty)\n",
    "cv2.createTrackbar(\"HUE Max\", \"HSV\", 179, 179, empty)\n",
    "cv2.createTrackbar(\"SAT Min\", \"HSV\", 0, 255, empty)\n",
    "cv2.createTrackbar(\"SAT Max\", \"HSV\", 255, 255, empty)\n",
    "cv2.createTrackbar(\"VALUE Min\", \"HSV\", 0, 255, empty)\n",
    "cv2.createTrackbar(\"VALUE Max\", \"HSV\", 255, 255, empty)\n",
    "\n",
    "cap = cv2.VideoCapture(0)\n",
    "frameCounter = 0\n",
    "\n",
    "while True:\n",
    "    \n",
    "\n",
    "    _, img = cap.read()\n",
    "    imgHsv = cv2.cvtColor(img, cv2.COLOR_BGR2HSV)\n",
    "\n",
    "    h_min = cv2.getTrackbarPos(\"HUE Min\", \"HSV\")\n",
    "    h_max = cv2.getTrackbarPos(\"HUE Max\", \"HSV\")\n",
    "    s_min = cv2.getTrackbarPos(\"SAT Min\", \"HSV\")\n",
    "    s_max = cv2.getTrackbarPos(\"SAT Max\", \"HSV\")\n",
    "    v_min = cv2.getTrackbarPos(\"VALUE Min\", \"HSV\")\n",
    "    v_max = cv2.getTrackbarPos(\"VALUE Max\", \"HSV\")\n",
    "    \n",
    "\n",
    "    lower = np.array([h_min, s_min, v_min])\n",
    "    upper = np.array([h_max, s_max, v_max])\n",
    "    mask = cv2.inRange(imgHsv, lower, upper)\n",
    "    \n",
    "    mask = cv2.cvtColor(mask, cv2.COLOR_GRAY2BGR)\n",
    "    hStack = np.hstack([img, mask])\n",
    "    cv2.imshow('Horizontal Stacking', hStack)\n",
    "    \n",
    "    frameCounter +=1\n",
    "    if cap.get(cv2.CAP_PROP_FRAME_COUNT) ==frameCounter:\n",
    "        cap.set(cv2.CAP_PROP_POS_FRAMES,0)\n",
    "        frameCounter=0\n",
    "    key = cv2.waitKey(1)\n",
    "    if key == 27:\n",
    "        break\n",
    "\n",
    "cap.release()\n",
    "cv2.destroyAllWindows()"
   ]
  },
  {
   "cell_type": "code",
   "execution_count": null,
   "metadata": {},
   "outputs": [],
   "source": []
  }
 ],
 "metadata": {
  "kernelspec": {
   "display_name": "base",
   "language": "python",
   "name": "python3"
  },
  "language_info": {
   "codemirror_mode": {
    "name": "ipython",
    "version": 3
   },
   "file_extension": ".py",
   "mimetype": "text/x-python",
   "name": "python",
   "nbconvert_exporter": "python",
   "pygments_lexer": "ipython3",
   "version": "3.8.8"
  }
 },
 "nbformat": 4,
 "nbformat_minor": 2
}
